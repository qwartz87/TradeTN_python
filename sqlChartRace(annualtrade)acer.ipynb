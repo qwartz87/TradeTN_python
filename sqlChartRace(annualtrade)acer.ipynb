{
 "cells": [
  {
   "cell_type": "code",
   "execution_count": 1,
   "metadata": {},
   "outputs": [
    {
     "name": "stderr",
     "output_type": "stream",
     "text": [
      "c:\\Users\\mehdi\\anaconda3\\lib\\site-packages\\pandas\\io\\sql.py:762: UserWarning: pandas only support SQLAlchemy connectable(engine/connection) ordatabase string URI or sqlite3 DBAPI2 connectionother DBAPI2 objects are not tested, please consider using SQLAlchemy\n",
      "  warnings.warn(\n",
      "c:\\Users\\mehdi\\anaconda3\\lib\\site-packages\\pandas\\io\\sql.py:762: UserWarning: pandas only support SQLAlchemy connectable(engine/connection) ordatabase string URI or sqlite3 DBAPI2 connectionother DBAPI2 objects are not tested, please consider using SQLAlchemy\n",
      "  warnings.warn(\n"
     ]
    }
   ],
   "source": [
    "import pandas as pd \n",
    "import pandas.io.sql as sqlio \n",
    "import psycopg2 as ps \n",
    "import numpy as np\n",
    "import bar_chart_race as bcr\n",
    "\n",
    "conn2=ps.connect(dbname=\"postgres\",\n",
    "user=\"postgres\",\n",
    "password=\"1234\",\n",
    "host=\"localhost\",\n",
    "port=\"5432\")\n",
    "\n",
    "sql=\"\"\"select * from importdata\"\"\"\n",
    "sql2=\"\"\"select * from exportdata\"\"\"\n",
    "\n",
    "df=sqlio.read_sql_query(sql,conn2)\n",
    "df2=sqlio.read_sql_query(sql2,conn2)\n",
    "\n",
    "df['importvalue'] = df['importvalue'].astype(float)\n",
    "df2['exportvalue'] = df2['exportvalue'].astype(float)\n",
    "\n",
    "df['importvalue2'] = df['importvalue']/1000\n",
    "df2['exportvalue2'] = df2['exportvalue']/1000\n",
    "\n",
    "df=df[['year','importvalue2','partner']]\n",
    "df2=df2[['year', 'exportvalue2','partner']]\n",
    "df = df[df['partner'] != \"World\"]\n",
    "df2 = df2[df2['partner'] != \"World\"]\n",
    "\n",
    "\n",
    "###annual trade###\n",
    "df = pd.pivot_table(df, index=['year'], columns=['partner'], values=['importvalue2'])\n",
    "df2 = pd.pivot_table(df2, index=['year'], columns=['partner'], values=['exportvalue2'])\n",
    "#del df['World']\n",
    "#del df2['World']"
   ]
  },
  {
   "cell_type": "code",
   "execution_count": null,
   "metadata": {},
   "outputs": [],
   "source": []
  },
  {
   "cell_type": "code",
   "execution_count": 2,
   "metadata": {},
   "outputs": [],
   "source": [
    "df.index.name = None\n",
    "df2.index.name = None\n",
    "\n",
    "df.columns = [col[1] for col in df.columns]\n",
    "df2.columns = [col[1] for col in df2.columns]\n",
    "\n",
    "df = df.fillna(0).astype(int)\n",
    "df2 = df2.fillna(0).astype(int)"
   ]
  },
  {
   "cell_type": "code",
   "execution_count": 3,
   "metadata": {},
   "outputs": [
    {
     "name": "stderr",
     "output_type": "stream",
     "text": [
      "C:\\Users\\mehdi\\AppData\\Local\\Temp\\ipykernel_13216\\3165680591.py:6: FutureWarning: Passing a set as an indexer is deprecated and will raise in a future version. Use a list instead.\n",
      "  df = df[top_partnerm]\n",
      "C:\\Users\\mehdi\\AppData\\Local\\Temp\\ipykernel_13216\\3165680591.py:14: FutureWarning: Passing a set as an indexer is deprecated and will raise in a future version. Use a list instead.\n",
      "  df2 = df2[top_partnerx]\n"
     ]
    }
   ],
   "source": [
    "top_partnerm = set()\n",
    "\n",
    "for index, row in df.iterrows():\n",
    "    top_partnerm |= set(row[row > 0].sort_values(ascending=False).head(15).index)\n",
    "\n",
    "df = df[top_partnerm]\n",
    "\n",
    "\n",
    "top_partnerx = set()\n",
    "\n",
    "for index, row in df.iterrows():\n",
    "    top_partnerx |= set(row[row > 0].sort_values(ascending=False).head(15).index)\n",
    "\n",
    "df2 = df2[top_partnerx]"
   ]
  },
  {
   "cell_type": "code",
   "execution_count": 4,
   "metadata": {},
   "outputs": [
    {
     "name": "stderr",
     "output_type": "stream",
     "text": [
      "c:\\Users\\mehdi\\anaconda3\\lib\\site-packages\\bar_chart_race\\_make_chart.py:286: UserWarning: FixedFormatter should only be used together with FixedLocator\n",
      "  ax.set_yticklabels(self.df_values.columns)\n",
      "c:\\Users\\mehdi\\anaconda3\\lib\\site-packages\\bar_chart_race\\_make_chart.py:287: UserWarning: FixedFormatter should only be used together with FixedLocator\n",
      "  ax.set_xticklabels([max_val] * len(ax.get_xticks()))\n",
      "c:\\Users\\mehdi\\anaconda3\\lib\\site-packages\\bar_chart_race\\_make_chart.py:226: UserWarning: Some of your columns never make an appearance in the animation. To reduce color repetition, set `filter_column_colors` to `True`\n",
      "  warnings.warn(\"Some of your columns never make an appearance in the animation. \"\n"
     ]
    }
   ],
   "source": [
    "bcr.bar_chart_race(df = df, \n",
    "                   n_bars = 13, \n",
    "                   sort='desc',\n",
    "                   title='TUN imports from main partners (Data source: ComTrade 2022)',\n",
    "                   perpendicular_bar_func='mean',\n",
    "                   filename = 'pl_imports2_acer.mp4')"
   ]
  },
  {
   "cell_type": "code",
   "execution_count": 5,
   "metadata": {},
   "outputs": [
    {
     "name": "stderr",
     "output_type": "stream",
     "text": [
      "c:\\Users\\mehdi\\anaconda3\\lib\\site-packages\\bar_chart_race\\_make_chart.py:286: UserWarning: FixedFormatter should only be used together with FixedLocator\n",
      "  ax.set_yticklabels(self.df_values.columns)\n",
      "c:\\Users\\mehdi\\anaconda3\\lib\\site-packages\\bar_chart_race\\_make_chart.py:287: UserWarning: FixedFormatter should only be used together with FixedLocator\n",
      "  ax.set_xticklabels([max_val] * len(ax.get_xticks()))\n",
      "c:\\Users\\mehdi\\anaconda3\\lib\\site-packages\\bar_chart_race\\_make_chart.py:226: UserWarning: Some of your columns never make an appearance in the animation. To reduce color repetition, set `filter_column_colors` to `True`\n",
      "  warnings.warn(\"Some of your columns never make an appearance in the animation. \"\n"
     ]
    }
   ],
   "source": [
    "bcr.bar_chart_race(df = df2, \n",
    "                   n_bars = 13, \n",
    "                   sort='desc',\n",
    "                   title='TUN exports to main partners (Data source: ComTrade 2022)',\n",
    "                   perpendicular_bar_func='mean',\n",
    "                   filename = 'pl_exports2_acer.mp4')"
   ]
  }
 ],
 "metadata": {
  "kernelspec": {
   "display_name": "Python 3 (ipykernel)",
   "language": "python",
   "name": "python3"
  },
  "language_info": {
   "codemirror_mode": {
    "name": "ipython",
    "version": 3
   },
   "file_extension": ".py",
   "mimetype": "text/x-python",
   "name": "python",
   "nbconvert_exporter": "python",
   "pygments_lexer": "ipython3",
   "version": "3.9.13"
  },
  "vscode": {
   "interpreter": {
    "hash": "7aa05b9c450c98289c7b54df56b3a8261faec54b300e85e571250f3c1d1ed4d1"
   }
  }
 },
 "nbformat": 4,
 "nbformat_minor": 2
}
