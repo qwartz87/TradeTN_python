{
 "cells": [
  {
   "cell_type": "code",
   "execution_count": 1,
   "metadata": {},
   "outputs": [],
   "source": [
    "import pandas as pd \n",
    "import pandas.io.sql as sqlio \n",
    "import psycopg2 as ps \n",
    "import numpy as np\n",
    "import bar_chart_race as bcr\n"
   ]
  },
  {
   "cell_type": "code",
   "execution_count": 2,
   "metadata": {},
   "outputs": [],
   "source": [
    "conn2=ps.connect(dbname=\"trade\",\n",
    "user=\"postgres\",\n",
    "password=\"1234\",\n",
    "host=\"localhost\",\n",
    "port=\"5432\")"
   ]
  },
  {
   "cell_type": "code",
   "execution_count": 3,
   "metadata": {},
   "outputs": [],
   "source": [
    "sql=\"\"\"select * from \"HS92\".tunimp\"\"\"\n",
    "sql2=\"\"\"select * from \"HS92\".tunexp\"\"\""
   ]
  },
  {
   "cell_type": "code",
   "execution_count": 4,
   "metadata": {},
   "outputs": [
    {
     "name": "stderr",
     "output_type": "stream",
     "text": [
      "c:\\Users\\mehdi\\anaconda3\\lib\\site-packages\\pandas\\io\\sql.py:762: UserWarning: pandas only support SQLAlchemy connectable(engine/connection) ordatabase string URI or sqlite3 DBAPI2 connectionother DBAPI2 objects are not tested, please consider using SQLAlchemy\n",
      "  warnings.warn(\n",
      "c:\\Users\\mehdi\\anaconda3\\lib\\site-packages\\pandas\\io\\sql.py:762: UserWarning: pandas only support SQLAlchemy connectable(engine/connection) ordatabase string URI or sqlite3 DBAPI2 connectionother DBAPI2 objects are not tested, please consider using SQLAlchemy\n",
      "  warnings.warn(\n"
     ]
    }
   ],
   "source": [
    "df=sqlio.read_sql_query(sql,conn2)\n",
    "df2=sqlio.read_sql_query(sql2,conn2)\n"
   ]
  },
  {
   "cell_type": "code",
   "execution_count": 7,
   "metadata": {},
   "outputs": [],
   "source": [
    "df['v'] = df['v'].astype(float)\n",
    "\n",
    "df2['v'] = df2['v'].astype(float)\n",
    "\n"
   ]
  },
  {
   "cell_type": "code",
   "execution_count": 8,
   "metadata": {},
   "outputs": [],
   "source": [
    "df['year'] = pd.to_datetime(df['t'], yearfirst=True)\n",
    "df2['year'] = pd.to_datetime(df2['t'], yearfirst=True)"
   ]
  },
  {
   "cell_type": "code",
   "execution_count": 9,
   "metadata": {},
   "outputs": [],
   "source": [
    "df=df[['t', 'year','v','description']]\n",
    "df2=df2[['t', 'year','v','description']]"
   ]
  },
  {
   "cell_type": "code",
   "execution_count": 10,
   "metadata": {},
   "outputs": [],
   "source": [
    "###annual trade###\n",
    "df['total_import'] = df.groupby(['description', 't'])['v'].transform('sum')\n",
    "df2['total_export'] = df2.groupby(['description', 't'])['v'].transform('sum')\n",
    "\n",
    "df = df[['year', 'description', 'total_import']]\n",
    "df2 = df2[['year', 'description', 'total_export']]\n",
    "\n",
    "df = pd.pivot_table(df, index=['year'], columns=['description'], values=['total_import'])\n",
    "df2 = pd.pivot_table(df2, index=['year'], columns=['description'], values=['total_export'])"
   ]
  },
  {
   "cell_type": "code",
   "execution_count": 11,
   "metadata": {},
   "outputs": [],
   "source": [
    "df.index.name = None\n",
    "df2.index.name = None\n",
    "\n",
    "df.columns = [col[1] for col in df.columns]\n",
    "df2.columns = [col[1] for col in df2.columns]"
   ]
  },
  {
   "cell_type": "code",
   "execution_count": 12,
   "metadata": {},
   "outputs": [],
   "source": [
    "df = df.fillna(0).astype(int)\n",
    "df2 = df2.fillna(0).astype(int)"
   ]
  },
  {
   "cell_type": "code",
   "execution_count": 16,
   "metadata": {},
   "outputs": [
    {
     "name": "stderr",
     "output_type": "stream",
     "text": [
      "C:\\Users\\mehdi\\AppData\\Local\\Temp\\ipykernel_14772\\2071896819.py:6: FutureWarning: Passing a set as an indexer is deprecated and will raise in a future version. Use a list instead.\n",
      "  df = df[top_partnerm]\n"
     ]
    }
   ],
   "source": [
    "top_partnerm = set()\n",
    "\n",
    "for index, row in df.iterrows():\n",
    "    top_partnerm |= set(row[row > 0].sort_values(ascending=False).head(8).index)\n",
    "\n",
    "df = df[top_partnerm]"
   ]
  },
  {
   "cell_type": "code",
   "execution_count": 1,
   "metadata": {},
   "outputs": [
    {
     "ename": "NameError",
     "evalue": "name 'df' is not defined",
     "output_type": "error",
     "traceback": [
      "\u001b[1;31m---------------------------------------------------------------------------\u001b[0m",
      "\u001b[1;31mNameError\u001b[0m                                 Traceback (most recent call last)",
      "\u001b[1;32m~\\AppData\\Local\\Temp\\ipykernel_11576\\357158634.py\u001b[0m in \u001b[0;36m<module>\u001b[1;34m\u001b[0m\n\u001b[0;32m      1\u001b[0m \u001b[0mtop_partnerx\u001b[0m \u001b[1;33m=\u001b[0m \u001b[0mset\u001b[0m\u001b[1;33m(\u001b[0m\u001b[1;33m)\u001b[0m\u001b[1;33m\u001b[0m\u001b[1;33m\u001b[0m\u001b[0m\n\u001b[0;32m      2\u001b[0m \u001b[1;33m\u001b[0m\u001b[0m\n\u001b[1;32m----> 3\u001b[1;33m \u001b[1;32mfor\u001b[0m \u001b[0mindex\u001b[0m\u001b[1;33m,\u001b[0m \u001b[0mrow\u001b[0m \u001b[1;32min\u001b[0m \u001b[0mdf\u001b[0m\u001b[1;33m.\u001b[0m\u001b[0miterrows\u001b[0m\u001b[1;33m(\u001b[0m\u001b[1;33m)\u001b[0m\u001b[1;33m:\u001b[0m\u001b[1;33m\u001b[0m\u001b[1;33m\u001b[0m\u001b[0m\n\u001b[0m\u001b[0;32m      4\u001b[0m     \u001b[0mtop_partnerx\u001b[0m \u001b[1;33m|=\u001b[0m \u001b[0mset\u001b[0m\u001b[1;33m(\u001b[0m\u001b[0mrow\u001b[0m\u001b[1;33m[\u001b[0m\u001b[0mrow\u001b[0m \u001b[1;33m>\u001b[0m \u001b[1;36m0\u001b[0m\u001b[1;33m]\u001b[0m\u001b[1;33m.\u001b[0m\u001b[0msort_values\u001b[0m\u001b[1;33m(\u001b[0m\u001b[0mascending\u001b[0m\u001b[1;33m=\u001b[0m\u001b[1;32mFalse\u001b[0m\u001b[1;33m)\u001b[0m\u001b[1;33m.\u001b[0m\u001b[0mhead\u001b[0m\u001b[1;33m(\u001b[0m\u001b[1;36m15\u001b[0m\u001b[1;33m)\u001b[0m\u001b[1;33m.\u001b[0m\u001b[0mindex\u001b[0m\u001b[1;33m)\u001b[0m\u001b[1;33m\u001b[0m\u001b[1;33m\u001b[0m\u001b[0m\n\u001b[0;32m      5\u001b[0m \u001b[1;33m\u001b[0m\u001b[0m\n",
      "\u001b[1;31mNameError\u001b[0m: name 'df' is not defined"
     ]
    }
   ],
   "source": [
    "top_partnerx = set()\n",
    "\n",
    "for index, row in df.iterrows():\n",
    "    top_partnerx |= set(row[row > 0].sort_values(ascending=False).head(15).index)\n",
    "\n",
    "df2 = df2[top_partnerx]"
   ]
  },
  {
   "cell_type": "code",
   "execution_count": 17,
   "metadata": {},
   "outputs": [
    {
     "name": "stderr",
     "output_type": "stream",
     "text": [
      "c:\\Users\\mehdi\\anaconda3\\lib\\site-packages\\bar_chart_race\\_make_chart.py:286: UserWarning: FixedFormatter should only be used together with FixedLocator\n",
      "  ax.set_yticklabels(self.df_values.columns)\n",
      "c:\\Users\\mehdi\\anaconda3\\lib\\site-packages\\bar_chart_race\\_make_chart.py:287: UserWarning: FixedFormatter should only be used together with FixedLocator\n",
      "  ax.set_xticklabels([max_val] * len(ax.get_xticks()))\n",
      "c:\\Users\\mehdi\\anaconda3\\lib\\site-packages\\bar_chart_race\\_make_chart.py:297: UserWarning: Tight layout not applied. The left and right margins cannot be made large enough to accommodate all axes decorations.\n",
      "  fig.canvas.print_figure(io.BytesIO(), format='png')\n"
     ]
    }
   ],
   "source": [
    "bcr.bar_chart_race(df = df, \n",
    "                   n_bars = 8, \n",
    "                   sort='desc',\n",
    "                   title='Ranking of main imported products(Data source: BACI 2022)',\n",
    "                   perpendicular_bar_func='mean',\n",
    "                   filename = 'product_imports2.mp4')"
   ]
  },
  {
   "cell_type": "code",
   "execution_count": 2,
   "metadata": {},
   "outputs": [
    {
     "ename": "NameError",
     "evalue": "name 'bcr' is not defined",
     "output_type": "error",
     "traceback": [
      "\u001b[1;31m---------------------------------------------------------------------------\u001b[0m",
      "\u001b[1;31mNameError\u001b[0m                                 Traceback (most recent call last)",
      "\u001b[1;32m~\\AppData\\Local\\Temp\\ipykernel_11576\\3346683565.py\u001b[0m in \u001b[0;36m<module>\u001b[1;34m\u001b[0m\n\u001b[1;32m----> 1\u001b[1;33m bcr.bar_chart_race(df = df2, \n\u001b[0m\u001b[0;32m      2\u001b[0m                    \u001b[0mn_bars\u001b[0m \u001b[1;33m=\u001b[0m \u001b[1;36m13\u001b[0m\u001b[1;33m,\u001b[0m\u001b[1;33m\u001b[0m\u001b[1;33m\u001b[0m\u001b[0m\n\u001b[0;32m      3\u001b[0m                    \u001b[0msort\u001b[0m\u001b[1;33m=\u001b[0m\u001b[1;34m'desc'\u001b[0m\u001b[1;33m,\u001b[0m\u001b[1;33m\u001b[0m\u001b[1;33m\u001b[0m\u001b[0m\n\u001b[0;32m      4\u001b[0m                    \u001b[0mtitle\u001b[0m\u001b[1;33m=\u001b[0m\u001b[1;34m'Ranking of main exported products(Data source: BACI 2022)'\u001b[0m\u001b[1;33m,\u001b[0m\u001b[1;33m\u001b[0m\u001b[1;33m\u001b[0m\u001b[0m\n\u001b[0;32m      5\u001b[0m                    \u001b[0mperpendicular_bar_func\u001b[0m\u001b[1;33m=\u001b[0m\u001b[1;34m'mean'\u001b[0m\u001b[1;33m,\u001b[0m\u001b[1;33m\u001b[0m\u001b[1;33m\u001b[0m\u001b[0m\n",
      "\u001b[1;31mNameError\u001b[0m: name 'bcr' is not defined"
     ]
    }
   ],
   "source": [
    "bcr.bar_chart_race(df = df2, \n",
    "                   n_bars = 13, \n",
    "                   sort='desc',\n",
    "                   title='Ranking of main exported products(Data source: BACI 2022)',\n",
    "                   perpendicular_bar_func='mean',\n",
    "                   filename = 'product_exports2.mp4')"
   ]
  }
 ],
 "metadata": {
  "kernelspec": {
   "display_name": "Python 3 (ipykernel)",
   "language": "python",
   "name": "python3"
  },
  "language_info": {
   "codemirror_mode": {
    "name": "ipython",
    "version": 3
   },
   "file_extension": ".py",
   "mimetype": "text/x-python",
   "name": "python",
   "nbconvert_exporter": "python",
   "pygments_lexer": "ipython3",
   "version": "3.9.13"
  },
  "vscode": {
   "interpreter": {
    "hash": "7aa05b9c450c98289c7b54df56b3a8261faec54b300e85e571250f3c1d1ed4d1"
   }
  }
 },
 "nbformat": 4,
 "nbformat_minor": 2
}
