{
 "cells": [
  {
   "cell_type": "code",
   "execution_count": 1,
   "metadata": {},
   "outputs": [],
   "source": [
    "import pandas as pd\n",
    "import numpy as np\n",
    "import matplotlib.pyplot as plt\n",
    "from numba import jit\n",
    "import networkx as nx\n",
    "from bokeh.io import output_notebook"
   ]
  },
  {
   "cell_type": "code",
   "execution_count": null,
   "metadata": {},
   "outputs": [],
   "source": [
    "data2020=pd.read_csv()\n",
    "data2019=pd.read_csv(r)\n",
    "data2018=pd.read_csv(r)\n",
    "data2017=pd.read_csv(r)\n",
    "data2016=pd.read_csv(r)\n",
    "data2015=pd.read_csv(r)\n",
    "data2014=pd.read_csv(r)\n",
    "\n",
    "data2013=pd.read_csv(r)\n",
    "data2012=pd.read_csv(r)\n",
    "data2011=pd.read_csv(r)\n",
    "data2010=pd.read_csv(r)\n",
    "data2009=pd.read_csv(r)\n",
    "data2008=pd.read_csv(r)\n",
    "data2007=pd.read_csv(r)\n",
    "data2006=pd.read_csv(r)\n",
    "data2005=pd.read_csv(r)\n",
    "data2004=pd.read_csv(r)\n",
    "data2003=pd.read_csv(r)\n",
    "data2002=pd.read_csv(r\"E:\\BACI dataset\\BACI_HS92_Y1995_V202201.csv\")\n",
    "data2001=pd.read_csv(r\"E:\\BACI dataset\\BACI_HS92_Y1995_V202201.csv\")\n",
    "data2000=pd.read_csv(r\"E:\\BACI dataset\\BACI_HS92_Y1995_V202201.csv\")\n",
    "\n",
    "annee=[2000, 2001, 2002, 2003, 2004, 2005, 2006, 2007, 2008, 2009, 2010, 2011, 2012, 2013, 2014, 2015, 2016, 2017, 2018, 2019, 2020]\n",
    "for x in annee:\n",
    "    data2004=pd.read_csv(r)\n",
    "\n",
    "df_joint = data2020.append(data2019)\n",
    "\n",
    "df_joint = pd.merge(df1, df2, on=<vars>)\n",
    "\n",
    "df_joint = df1.join(df2, how='left')"
   ]
  },
  {
   "cell_type": "code",
   "execution_count": 2,
   "metadata": {},
   "outputs": [
    {
     "data": {
      "text/plain": [
       "['E:/BACI dataset\\\\BACI_HS92_Y2015_V202201.csv',\n",
       " 'E:/BACI dataset\\\\BACI_HS92_Y2016_V202201.csv',\n",
       " 'E:/BACI dataset\\\\BACI_HS92_Y2017_V202201.csv',\n",
       " 'E:/BACI dataset\\\\BACI_HS92_Y2018_V202201.csv',\n",
       " 'E:/BACI dataset\\\\BACI_HS92_Y2019_V202201.csv',\n",
       " 'E:/BACI dataset\\\\BACI_HS92_Y2020_V202201.csv']"
      ]
     },
     "execution_count": 2,
     "metadata": {},
     "output_type": "execute_result"
    }
   ],
   "source": [
    "import glob\n",
    "path=\"E:/BACI dataset/BACI_HS92_\"\n",
    "all_files=glob.glob(path+\"*.csv\")\n",
    "all_files"
   ]
  },
  {
   "cell_type": "code",
   "execution_count": 3,
   "metadata": {},
   "outputs": [
    {
     "data": {
      "text/html": [
       "<div>\n",
       "<style scoped>\n",
       "    .dataframe tbody tr th:only-of-type {\n",
       "        vertical-align: middle;\n",
       "    }\n",
       "\n",
       "    .dataframe tbody tr th {\n",
       "        vertical-align: top;\n",
       "    }\n",
       "\n",
       "    .dataframe thead th {\n",
       "        text-align: right;\n",
       "    }\n",
       "</style>\n",
       "<table border=\"1\" class=\"dataframe\">\n",
       "  <thead>\n",
       "    <tr style=\"text-align: right;\">\n",
       "      <th></th>\n",
       "      <th>t</th>\n",
       "      <th>i</th>\n",
       "      <th>j</th>\n",
       "      <th>k</th>\n",
       "      <th>v</th>\n",
       "      <th>q</th>\n",
       "    </tr>\n",
       "  </thead>\n",
       "  <tbody>\n",
       "    <tr>\n",
       "      <th>0</th>\n",
       "      <td>2015</td>\n",
       "      <td>4</td>\n",
       "      <td>12</td>\n",
       "      <td>121190</td>\n",
       "      <td>1.180</td>\n",
       "      <td>0.850</td>\n",
       "    </tr>\n",
       "    <tr>\n",
       "      <th>1</th>\n",
       "      <td>2015</td>\n",
       "      <td>4</td>\n",
       "      <td>20</td>\n",
       "      <td>280430</td>\n",
       "      <td>0.029</td>\n",
       "      <td>0.053</td>\n",
       "    </tr>\n",
       "    <tr>\n",
       "      <th>2</th>\n",
       "      <td>2015</td>\n",
       "      <td>4</td>\n",
       "      <td>20</td>\n",
       "      <td>491000</td>\n",
       "      <td>0.095</td>\n",
       "      <td>0.001</td>\n",
       "    </tr>\n",
       "    <tr>\n",
       "      <th>3</th>\n",
       "      <td>2015</td>\n",
       "      <td>4</td>\n",
       "      <td>20</td>\n",
       "      <td>640319</td>\n",
       "      <td>1.687</td>\n",
       "      <td>0.041</td>\n",
       "    </tr>\n",
       "    <tr>\n",
       "      <th>4</th>\n",
       "      <td>2015</td>\n",
       "      <td>4</td>\n",
       "      <td>24</td>\n",
       "      <td>210690</td>\n",
       "      <td>0.783</td>\n",
       "      <td>0.009</td>\n",
       "    </tr>\n",
       "    <tr>\n",
       "      <th>...</th>\n",
       "      <td>...</td>\n",
       "      <td>...</td>\n",
       "      <td>...</td>\n",
       "      <td>...</td>\n",
       "      <td>...</td>\n",
       "      <td>...</td>\n",
       "    </tr>\n",
       "    <tr>\n",
       "      <th>62999899</th>\n",
       "      <td>2020</td>\n",
       "      <td>894</td>\n",
       "      <td>858</td>\n",
       "      <td>854430</td>\n",
       "      <td>0.066</td>\n",
       "      <td>0.002</td>\n",
       "    </tr>\n",
       "    <tr>\n",
       "      <th>62999900</th>\n",
       "      <td>2020</td>\n",
       "      <td>894</td>\n",
       "      <td>858</td>\n",
       "      <td>870829</td>\n",
       "      <td>1.004</td>\n",
       "      <td>0.045</td>\n",
       "    </tr>\n",
       "    <tr>\n",
       "      <th>62999901</th>\n",
       "      <td>2020</td>\n",
       "      <td>894</td>\n",
       "      <td>858</td>\n",
       "      <td>870840</td>\n",
       "      <td>0.031</td>\n",
       "      <td>0.001</td>\n",
       "    </tr>\n",
       "    <tr>\n",
       "      <th>62999902</th>\n",
       "      <td>2020</td>\n",
       "      <td>894</td>\n",
       "      <td>858</td>\n",
       "      <td>870893</td>\n",
       "      <td>0.366</td>\n",
       "      <td>0.016</td>\n",
       "    </tr>\n",
       "    <tr>\n",
       "      <th>62999903</th>\n",
       "      <td>2020</td>\n",
       "      <td>894</td>\n",
       "      <td>858</td>\n",
       "      <td>870899</td>\n",
       "      <td>0.191</td>\n",
       "      <td>0.008</td>\n",
       "    </tr>\n",
       "  </tbody>\n",
       "</table>\n",
       "<p>62999904 rows × 6 columns</p>\n",
       "</div>"
      ],
      "text/plain": [
       "             t    i    j       k      v              q\n",
       "0         2015    4   12  121190  1.180          0.850\n",
       "1         2015    4   20  280430  0.029          0.053\n",
       "2         2015    4   20  491000  0.095          0.001\n",
       "3         2015    4   20  640319  1.687          0.041\n",
       "4         2015    4   24  210690  0.783          0.009\n",
       "...        ...  ...  ...     ...    ...            ...\n",
       "62999899  2020  894  858  854430  0.066          0.002\n",
       "62999900  2020  894  858  870829  1.004          0.045\n",
       "62999901  2020  894  858  870840  0.031          0.001\n",
       "62999902  2020  894  858  870893  0.366          0.016\n",
       "62999903  2020  894  858  870899  0.191          0.008\n",
       "\n",
       "[62999904 rows x 6 columns]"
      ]
     },
     "execution_count": 3,
     "metadata": {},
     "output_type": "execute_result"
    }
   ],
   "source": [
    "li_3=[pd.read_csv(filename,index_col=None, header=0) for filename in all_files]\n",
    "df=pd.concat(li_3,axis=0, ignore_index=True)\n",
    "df"
   ]
  },
  {
   "cell_type": "code",
   "execution_count": 5,
   "metadata": {},
   "outputs": [],
   "source": [
    "df_i=pd.read_csv(r\"E:\\BACI dataset\\country_codes_V202201_i.csv\")\n",
    "df_j=pd.read_csv(r\"E:\\BACI dataset\\country_codes_V202201_j.csv\")\n",
    "df_k=pd.read_csv(r\"E:\\BACI dataset\\product_codes_HS92_V202201.csv\")\n"
   ]
  },
  {
   "cell_type": "code",
   "execution_count": 6,
   "metadata": {},
   "outputs": [],
   "source": [
    "df_i.drop(columns=['iso_2digit_i'],inplace=True)\n",
    "df_j.drop(columns=['iso_2digit_j'],inplace=True)\n",
    "\n",
    "df_i.drop(columns=['country_name_i'],inplace=True)\n",
    "df_j.drop(columns=['country_name_j'],inplace=True)"
   ]
  },
  {
   "cell_type": "code",
   "execution_count": 7,
   "metadata": {},
   "outputs": [],
   "source": [
    "dff = pd.merge(df, df_i, on=\"i\")"
   ]
  },
  {
   "cell_type": "code",
   "execution_count": 8,
   "metadata": {},
   "outputs": [],
   "source": [
    "data = pd.merge(dff, df_j, on=\"j\")"
   ]
  },
  {
   "cell_type": "code",
   "execution_count": 9,
   "metadata": {},
   "outputs": [],
   "source": [
    "del df\n",
    "del dff"
   ]
  },
  {
   "cell_type": "code",
   "execution_count": 10,
   "metadata": {},
   "outputs": [],
   "source": [
    "data.to_csv('E:\\BACI dataset\\data_hs92.csv',encoding='utf-8',index=False)"
   ]
  },
  {
   "cell_type": "code",
   "execution_count": null,
   "metadata": {},
   "outputs": [],
   "source": [
    "fl = \"./data/year_origin_sitc_rev2.csv\"\n",
    "data = pd.read_csv(fl, converters={'sitc':str})   #Import SITC codes as strings to preserve formatting"
   ]
  },
  {
   "cell_type": "code",
   "execution_count": null,
   "metadata": {},
   "outputs": [],
   "source": [
    "data.head()\n"
   ]
  },
  {
   "cell_type": "code",
   "execution_count": null,
   "metadata": {},
   "outputs": [],
   "source": [
    "data['year'].unique()"
   ]
  },
  {
   "cell_type": "code",
   "execution_count": null,
   "metadata": {},
   "outputs": [],
   "source": [
    "data['origin'].unique()"
   ]
  },
  {
   "cell_type": "code",
   "execution_count": null,
   "metadata": {},
   "outputs": [],
   "source": [
    "data[(data['year'] == 2000)&(data['origin']==\"AUS\")].head()"
   ]
  },
  {
   "cell_type": "code",
   "execution_count": null,
   "metadata": {},
   "outputs": [],
   "source": [
    "data[data['origin'] == 'AUS'].set_index([\"year\",\"sitc\"])[\"export\"].unstack(level=\"year\").head()\n"
   ]
  },
  {
   "attachments": {},
   "cell_type": "markdown",
   "metadata": {},
   "source": [
    "Computing Revealed Comparative Advantage"
   ]
  },
  {
   "cell_type": "code",
   "execution_count": null,
   "metadata": {},
   "outputs": [],
   "source": [
    "cntry_export = data[[\"year\", \"origin\", \"export\"]].groupby(by=[\"year\", \"origin\"]).sum()\n",
    "cntry_export.head(n=2)"
   ]
  },
  {
   "cell_type": "code",
   "execution_count": null,
   "metadata": {},
   "outputs": [],
   "source": [
    "data[\"cntry_export\"] = data[[\"year\", \"origin\", \"export\"]].groupby(by=[\"year\", \"origin\"]).transform(np.sum)\n",
    "data[\"prod_export\"] = data[[\"year\", \"sitc\", \"export\"]].groupby(by=[\"year\", \"sitc\"]).transform(np.sum)\n",
    "data[\"world_export\"] = data[[\"year\", \"export\"]].groupby(by=[\"year\"]).transform(np.sum)"
   ]
  },
  {
   "cell_type": "code",
   "execution_count": null,
   "metadata": {},
   "outputs": [],
   "source": [
    "data[\"rca\"] = (data[\"export\"] / data[\"cntry_export\"]) / (data[\"prod_export\"] / data[\"world_export\"])"
   ]
  },
  {
   "cell_type": "code",
   "execution_count": null,
   "metadata": {},
   "outputs": [],
   "source": [
    "data.head()"
   ]
  },
  {
   "attachments": {},
   "cell_type": "markdown",
   "metadata": {},
   "source": [
    "Computing Mcp Matrix: Who Exports What Products and When?"
   ]
  },
  {
   "cell_type": "code",
   "execution_count": null,
   "metadata": {},
   "outputs": [],
   "source": [
    "#-Generate Yearly RCA Mcp Matrices and store them in a Dictionary-#\n",
    "rca = {}\n",
    "for year in data.year.unique():\n",
    "    yr = data[data.year == year].set_index(['origin', 'sitc']).unstack('sitc')['rca']\n",
    "    rca[year] = yr"
   ]
  },
  {
   "cell_type": "code",
   "execution_count": null,
   "metadata": {},
   "outputs": [],
   "source": [
    "rca[2000].head()\n"
   ]
  },
  {
   "cell_type": "code",
   "execution_count": null,
   "metadata": {},
   "outputs": [],
   "source": [
    "#-Generate Yearly Binary Mcp Matrices-#\n",
    "mcp = {}\n",
    "for year in rca.keys():\n",
    "    mcp[year] = rca[year].fillna(0.0).applymap(lambda x: 1 if x >= 1.0 else 0.0)"
   ]
  },
  {
   "cell_type": "code",
   "execution_count": null,
   "metadata": {},
   "outputs": [],
   "source": [
    "products = mcp[1998].loc['AUS']\n",
    "products[products == 1.0]"
   ]
  },
  {
   "attachments": {},
   "cell_type": "markdown",
   "metadata": {},
   "source": [
    "Computing Proximity Matrix ϕij\n"
   ]
  },
  {
   "attachments": {},
   "cell_type": "markdown",
   "metadata": {},
   "source": [
    "Step 1: Compute Proximity Matrix using Pandas"
   ]
  },
  {
   "cell_type": "code",
   "execution_count": null,
   "metadata": {},
   "outputs": [],
   "source": [
    "def proximity_matrix_pandas(mcp, fillna=True):\n",
    "    products = sorted(list(mcp.columns))\n",
    "    sum_products = mcp.sum(axis=0)\n",
    "    proximity = pd.DataFrame(index=products, columns=products)\n",
    "    for i, product1 in enumerate(products):\n",
    "        for j, product2 in enumerate(products):\n",
    "            if j > i:  #Symmetric Matrix Condition\n",
    "                continue\n",
    "            numerator = (mcp[product1] * mcp[product2]).sum()\n",
    "            denominator = max(sum_products[product1], sum_products[product2])\n",
    "            if denominator == 0:\n",
    "                cond_prob =  np.nan\n",
    "            else:\n",
    "                cond_prob = numerator / denominator\n",
    "            proximity.set_value(index=product1, col=product2, value=cond_prob)\n",
    "            proximity.set_value(index=product2, col=product1, value=cond_prob)\n",
    "    if fillna:\n",
    "        proximity = proximity.fillna(0.0)\n",
    "    return proximity"
   ]
  },
  {
   "cell_type": "code",
   "execution_count": null,
   "metadata": {},
   "outputs": [],
   "source": [
    "%%time\n",
    "prox_2000 = proximity_matrix_pandas(mcp[2000])"
   ]
  },
  {
   "cell_type": "code",
   "execution_count": null,
   "metadata": {},
   "outputs": [],
   "source": [
    "prox_2000.unstack().describe()"
   ]
  },
  {
   "cell_type": "code",
   "execution_count": null,
   "metadata": {},
   "outputs": [],
   "source": [
    "prox_2000.unstack().hist()\n"
   ]
  },
  {
   "cell_type": "code",
   "execution_count": null,
   "metadata": {},
   "outputs": [],
   "source": [
    "import line_profiler\n"
   ]
  },
  {
   "attachments": {},
   "cell_type": "markdown",
   "metadata": {},
   "source": [
    "Step 2: Consider other Python Tools (NumPy)"
   ]
  },
  {
   "cell_type": "code",
   "execution_count": null,
   "metadata": {},
   "outputs": [],
   "source": [
    "def proximity_matrix_numpy(mcp, fillna=False):\n",
    "    products = sorted(list(mcp.columns))\n",
    "    num_products = len(products)\n",
    "    proximity = np.empty((num_products, num_products))\n",
    "    col_sums = mcp.sum().values  \n",
    "    data = mcp.T.as_matrix()                  #This generates a c x p numpy array\n",
    "    for index1 in range(0,num_products):\n",
    "        for index2 in range(0,num_products):\n",
    "            if index2 > index1:\n",
    "                continue\n",
    "            numerator = (data[index1] * data[index2]).sum()\n",
    "            denominator = max(col_sums[index1], col_sums[index2])\n",
    "            if denominator == 0.0:\n",
    "                cond_prob = np.nan\n",
    "            else:\n",
    "                cond_prob = numerator / denominator\n",
    "            proximity[index1][index2] = cond_prob\n",
    "            proximity[index2][index1] = cond_prob\n",
    "    # Return DataFrame Representation #\n",
    "    proximity = pd.DataFrame(proximity, index=products, columns=products)\n",
    "    proximity.index.name = 'productcode1'\n",
    "    proximity.columns.name = 'productcode2'\n",
    "    if fillna:\n",
    "        proximity = proximity.fillna(0.0)\n",
    "    return proximity"
   ]
  },
  {
   "cell_type": "code",
   "execution_count": null,
   "metadata": {},
   "outputs": [],
   "source": [
    "%%time\n",
    "prox_2000_numpy = proximity_matrix_numpy(mcp[2000])"
   ]
  },
  {
   "cell_type": "code",
   "execution_count": null,
   "metadata": {},
   "outputs": [],
   "source": [
    "prox_2000.equals(prox_2000_numpy)"
   ]
  },
  {
   "attachments": {},
   "cell_type": "markdown",
   "metadata": {},
   "source": [
    "Step 3: Just in Time Compilation (Numba)"
   ]
  },
  {
   "cell_type": "code",
   "execution_count": null,
   "metadata": {},
   "outputs": [],
   "source": [
    "@jit(nopython=True)\n",
    "def coexport_probability(data, num_products, col_sums):\n",
    "    proximity = np.empty((num_products, num_products))\n",
    "    for index1 in range(0,num_products):\n",
    "        for index2 in range(0,num_products):\n",
    "            if index2 > index1:\n",
    "                continue\n",
    "            numerator = (data[index1] * data[index2]).sum()\n",
    "            denominator = max(col_sums[index1], col_sums[index2])\n",
    "            if denominator == 0.0:\n",
    "                cond_prob = np.nan\n",
    "            else:\n",
    "                cond_prob = numerator / denominator\n",
    "            proximity[index1][index2] = cond_prob\n",
    "            proximity[index2][index1] = cond_prob\n",
    "    return proximity\n",
    "\n",
    "def proximity_matrix_numba(mcp, fillna=False):\n",
    "    products = sorted(list(mcp.columns))\n",
    "    num_products = len(products)\n",
    "    col_sums = mcp.sum().values  \n",
    "    data = mcp.T.as_matrix()                  \n",
    "    proximity = coexport_probability(data, num_products, col_sums)   #Call Jit Function\n",
    "    # Return DataFrame Representation #\n",
    "    proximity = pd.DataFrame(proximity, index=products, columns=products)\n",
    "    proximity.index.name = 'productcode1'\n",
    "    proximity.columns.name = 'productcode2'\n",
    "    if fillna:\n",
    "        proximity = proximity.fillna(0.0)\n",
    "    return proximity"
   ]
  },
  {
   "cell_type": "code",
   "execution_count": null,
   "metadata": {},
   "outputs": [],
   "source": [
    "prox_2000_numba = proximity_matrix_numba(mcp[2000])"
   ]
  },
  {
   "cell_type": "code",
   "execution_count": null,
   "metadata": {},
   "outputs": [],
   "source": [
    "%%timeit\n",
    "prox_2000_numba = proximity_matrix_numba(mcp[2000])"
   ]
  },
  {
   "cell_type": "code",
   "execution_count": null,
   "metadata": {},
   "outputs": [],
   "source": [
    "prox_2000_numba.equals(prox_2000)\n"
   ]
  },
  {
   "attachments": {},
   "cell_type": "markdown",
   "metadata": {},
   "source": [
    "Computing All Years"
   ]
  },
  {
   "cell_type": "code",
   "execution_count": null,
   "metadata": {},
   "outputs": [],
   "source": [
    "%%time\n",
    "proximity = {}\n",
    "for year in mcp.keys():\n",
    "    proximity[year] = proximity_matrix_numba(mcp[year])"
   ]
  },
  {
   "cell_type": "code",
   "execution_count": null,
   "metadata": {},
   "outputs": [],
   "source": [
    "proximity[2000].head()"
   ]
  },
  {
   "cell_type": "code",
   "execution_count": null,
   "metadata": {},
   "outputs": [],
   "source": [
    "\n",
    "#-Save Results into a HDF5 File-#\n",
    "fl = \"data/sitcr2l4_proximity.h5\"\n",
    "store = pd.HDFStore(fl, mode='w')\n",
    "for year in results.keys():\n",
    "    store[\"Y{}\".format(year)] = results[year]\n",
    "store.close()"
   ]
  },
  {
   "attachments": {},
   "cell_type": "markdown",
   "metadata": {},
   "source": [
    "(Extension) Preparing Graph Data: Product Space Network"
   ]
  },
  {
   "cell_type": "code",
   "execution_count": null,
   "metadata": {},
   "outputs": [],
   "source": []
  }
 ],
 "metadata": {
  "kernelspec": {
   "display_name": "base",
   "language": "python",
   "name": "python3"
  },
  "language_info": {
   "codemirror_mode": {
    "name": "ipython",
    "version": 3
   },
   "file_extension": ".py",
   "mimetype": "text/x-python",
   "name": "python",
   "nbconvert_exporter": "python",
   "pygments_lexer": "ipython3",
   "version": "3.9.13"
  },
  "orig_nbformat": 4,
  "vscode": {
   "interpreter": {
    "hash": "7aa05b9c450c98289c7b54df56b3a8261faec54b300e85e571250f3c1d1ed4d1"
   }
  }
 },
 "nbformat": 4,
 "nbformat_minor": 2
}
