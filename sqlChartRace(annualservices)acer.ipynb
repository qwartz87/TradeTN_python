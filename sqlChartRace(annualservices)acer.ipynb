{
 "cells": [
  {
   "cell_type": "code",
   "execution_count": 1,
   "metadata": {},
   "outputs": [],
   "source": [
    "\n",
    "import pandas as pd \n",
    "import pandas.io.sql as sqlio \n",
    "import psycopg2 as ps \n",
    "import numpy as np\n",
    "import bar_chart_race as bcr\n",
    "\n",
    "batis=pd.read_csv(r\"C:\\Users\\mehdi\\Downloads\\BATIS.csv\")\n",
    "partneriso=pd.read_csv(r\"C:\\Users\\mehdi\\Downloads\\partner_iso.csv\")\n",
    "\n",
    "partneriso = partneriso.rename(columns={'partner': 'Partner'})\n",
    "batis = batis[batis['type_Item'] ==\"s\"]\n",
    "batis = batis[batis['Item_code'] ==\"S\"]\n",
    "batis = batis[batis['type_Partner'] ==\"c\"]\n",
    "\n",
    "exportservices = batis[batis['Flow'] ==\"EXP\"]\n",
    "importservices= batis[batis['Flow'] ==\"IMP\"]\n",
    "\n",
    "exportservices = exportservices[['Year','Reporter','Partner','Reported_value', 'Final_value','Balanced_value']]\n",
    "importservices = importservices[['Year','Reporter','Partner','Reported_value', 'Final_value','Balanced_value']]\n",
    "\n",
    "exportservices = exportservices[exportservices['Reporter'] ==\"TUN\"]\n",
    "importservices = importservices[importservices['Reporter'] ==\"TUN\"]\n",
    "\n",
    "partneriso = partneriso.rename(columns={'partner': 'Partner'})\n",
    "df_exportservices = pd.merge(exportservices, partneriso,left_on='Partner',  right_on='Partner')\n",
    "df_importservices = pd.merge(importservices, partneriso,left_on='Partner',  right_on='Partner')"
   ]
  },
  {
   "cell_type": "code",
   "execution_count": 2,
   "metadata": {},
   "outputs": [],
   "source": [
    "#df.groupby(['groupvar1', 'groupvar2'])['var'].agg(['std', 'median', 'min', 'max', 'sum'])\n",
    "\n",
    "\n",
    "df_exportservices=df_exportservices[['Year','Balanced_value','partner_name']]\n",
    "df_importservices=df_importservices[['Year', 'Balanced_value','partner_name']]\n",
    "\n",
    "\n",
    "###annual trade###\n",
    "df_exportservices = pd.pivot_table(df_exportservices, index=['Year'], columns=['partner_name'], values=['Balanced_value'])\n",
    "df_importservices = pd.pivot_table(df_importservices, index=['Year'], columns=['partner_name'], values=['Balanced_value'])"
   ]
  },
  {
   "cell_type": "code",
   "execution_count": 6,
   "metadata": {},
   "outputs": [
    {
     "name": "stderr",
     "output_type": "stream",
     "text": [
      "C:\\Users\\mehdi\\AppData\\Local\\Temp\\ipykernel_800\\397692512.py:6: FutureWarning: Passing a set as an indexer is deprecated and will raise in a future version. Use a list instead.\n",
      "  df_exportservices = df_exportservices[top_partnerx]\n",
      "C:\\Users\\mehdi\\AppData\\Local\\Temp\\ipykernel_800\\397692512.py:14: FutureWarning: Passing a set as an indexer is deprecated and will raise in a future version. Use a list instead.\n",
      "  df_importservices = df_importservices[top_partnerm]\n"
     ]
    }
   ],
   "source": [
    "top_partnerx = set()\n",
    "\n",
    "for index, row in df_exportservices.iterrows():\n",
    "    top_partnerx |= set(row[row > 0].sort_values(ascending=False).head(15).index)\n",
    "\n",
    "df_exportservices = df_exportservices[top_partnerx]\n",
    "\n",
    "\n",
    "top_partnerm = set()\n",
    "\n",
    "for index, row in df_importservices.iterrows():\n",
    "    top_partnerm |= set(row[row > 0].sort_values(ascending=False).head(15).index)\n",
    "\n",
    "df_importservices = df_importservices[top_partnerm]"
   ]
  },
  {
   "cell_type": "code",
   "execution_count": null,
   "metadata": {},
   "outputs": [],
   "source": [
    "df_exportservices.index.name = None\n",
    "df_importservices.index.name = None\n",
    "\n",
    "df_exportservices.columns = [col[1] for col in df_exportservices.columns]\n",
    "df_importservices.columns = [col[1] for col in df_importservices.columns]\n",
    "\n",
    "df_exportservices = df_exportservices.fillna(0).astype(int)\n",
    "df_importservices = df_importservices.fillna(0).astype(int)\n",
    "\n",
    "top_partnerx = set()\n",
    "\n",
    "for index, row in df_exportservices.iterrows():\n",
    "    top_partnerx |= set(row[row > 0].sort_values(ascending=False).head(15).index)\n",
    "\n",
    "df_exportservices = df_exportservices[top_partnerx]\n",
    "\n",
    "\n",
    "top_partnerm = set()\n",
    "\n",
    "for index, row in df_importservices.iterrows():\n",
    "    top_partnerm |= set(row[row > 0].sort_values(ascending=False).head(15).index)\n",
    "\n",
    "df_importservices = df_importservices[top_partnerm]"
   ]
  },
  {
   "cell_type": "code",
   "execution_count": 7,
   "metadata": {},
   "outputs": [
    {
     "name": "stderr",
     "output_type": "stream",
     "text": [
      "c:\\Users\\mehdi\\anaconda3\\lib\\site-packages\\bar_chart_race\\_make_chart.py:286: UserWarning: FixedFormatter should only be used together with FixedLocator\n",
      "  ax.set_yticklabels(self.df_values.columns)\n",
      "c:\\Users\\mehdi\\anaconda3\\lib\\site-packages\\bar_chart_race\\_make_chart.py:287: UserWarning: FixedFormatter should only be used together with FixedLocator\n",
      "  ax.set_xticklabels([max_val] * len(ax.get_xticks()))\n"
     ]
    }
   ],
   "source": [
    "bcr.bar_chart_race(df = df_importservices, \n",
    "                   n_bars = 13, \n",
    "                   sort='desc',\n",
    "                   title='TUN services imports from main partners (Data source: BATIS 2021)',\n",
    "                   perpendicular_bar_func='mean',\n",
    "                   filename = 'pl_importsservices2_acer.mp4')"
   ]
  },
  {
   "cell_type": "code",
   "execution_count": 8,
   "metadata": {},
   "outputs": [
    {
     "name": "stderr",
     "output_type": "stream",
     "text": [
      "c:\\Users\\mehdi\\anaconda3\\lib\\site-packages\\bar_chart_race\\_make_chart.py:286: UserWarning: FixedFormatter should only be used together with FixedLocator\n",
      "  ax.set_yticklabels(self.df_values.columns)\n",
      "c:\\Users\\mehdi\\anaconda3\\lib\\site-packages\\bar_chart_race\\_make_chart.py:287: UserWarning: FixedFormatter should only be used together with FixedLocator\n",
      "  ax.set_xticklabels([max_val] * len(ax.get_xticks()))\n"
     ]
    }
   ],
   "source": [
    "bcr.bar_chart_race(df = df_exportservices, \n",
    "                   n_bars = 13, \n",
    "                   sort='desc',\n",
    "                   title='TUN services exports from main partners (Data source: BATIS 2021)',\n",
    "                   perpendicular_bar_func='mean',\n",
    "                   filename = 'pl_exportsservices2_acer.mp4')"
   ]
  }
 ],
 "metadata": {
  "kernelspec": {
   "display_name": "Python 3.9.13 ('base')",
   "language": "python",
   "name": "python3"
  },
  "language_info": {
   "codemirror_mode": {
    "name": "ipython",
    "version": 3
   },
   "file_extension": ".py",
   "mimetype": "text/x-python",
   "name": "python",
   "nbconvert_exporter": "python",
   "pygments_lexer": "ipython3",
   "version": "3.9.13"
  },
  "orig_nbformat": 4,
  "vscode": {
   "interpreter": {
    "hash": "7aa05b9c450c98289c7b54df56b3a8261faec54b300e85e571250f3c1d1ed4d1"
   }
  }
 },
 "nbformat": 4,
 "nbformat_minor": 2
}
